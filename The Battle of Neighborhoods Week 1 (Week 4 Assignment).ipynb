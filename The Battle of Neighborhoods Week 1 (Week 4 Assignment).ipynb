{
 "cells": [
  {
   "cell_type": "markdown",
   "metadata": {},
   "source": [
    "# An Introdunction To The Business Problem\n",
    "\n",
    "A Tennis academy located in Flushing Meadows, New York, is planning to organize a number of tournaments, coaching courses, seminars and workshops for professional tennis players and coaches from all over the world during the next few months. Most of the players and coaches participating in an event will require lodging and dining facilities throughout the duration of the event. Additionally, the administration of the academy has decided that a gymming facility shall also be made available to the participants. But, the academy does not have any facilities for the lodging, dining or gymming of the participants. So, after a number of meetings, the administration has decided that the academy shall collaborate with a few hotels, restaurants and gyms within a specified radius of the academy in order to provide the participants with the required facilities. The participants will be given a list and a map of all the hotels, restaurants and gyms that are located within the specified radius and will be able to choose amongst them. The academy has hired a Data Scientist and given him the following objectives to fulfill:\n",
    "    \n",
    "   1. Identify atleast 10 Hotels within a 1.5 KM radius of the academy.\n",
    "   2. Identify atleast 10 Restaurants within a 500 meter radius of the academy.\n",
    "   3. Identify atleast 3 gyms within a 3 KM radius of the academy.\n",
    "   4. Visualize the locations identified on one single map. \n",
    "\n",
    "# A Description Of The Data To Be Used\n",
    "\n",
    "The data used in this project will be based on Foursquare location data for Flushing, NY 11368, United States. This data will help in solving the business problem highlighted previously. Using Foursquare location data, it will be possible to explore all the hotels, restaurants and gyms within the specified radius of the Tennis academy. Data related to the locations of interest will be extracted using Foursquare and it will be used to produce DataFrames. The data to be used in producing the DataFrames is as follows:\n",
    "    \n",
    "   1. Name of the location of interest.\n",
    "   2. Category of the location of interest.\n",
    "   3. Address of the location of interest.\n",
    "   4. Latitude of the location of interest.\n",
    "   5. Longitude of the location of interest.\n",
    "   6. Postal Code of the location of interest.\n",
    "   7. State of the location of interest."
   ]
  },
  {
   "cell_type": "code",
   "execution_count": null,
   "metadata": {},
   "outputs": [],
   "source": []
  }
 ],
 "metadata": {
  "kernelspec": {
   "display_name": "Python 3",
   "language": "python",
   "name": "python3"
  },
  "language_info": {
   "codemirror_mode": {
    "name": "ipython",
    "version": 3
   },
   "file_extension": ".py",
   "mimetype": "text/x-python",
   "name": "python",
   "nbconvert_exporter": "python",
   "pygments_lexer": "ipython3",
   "version": "3.7.3"
  }
 },
 "nbformat": 4,
 "nbformat_minor": 2
}
